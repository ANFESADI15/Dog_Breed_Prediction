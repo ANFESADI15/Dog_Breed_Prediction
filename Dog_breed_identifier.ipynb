{
 "cells": [
  {
   "cell_type": "markdown",
   "metadata": {},
   "source": [
    "# Dog Breed Prediction\n",
    "\n",
    "Build, Train and test a convolutional neural network capable of identifying the vreed of a dog in a supplied image. (Supervised ML - Multi class classification problem)"
   ]
  },
  {
   "cell_type": "markdown",
   "metadata": {},
   "source": [
    "this model can be used by NGOs working on saving anumals and for educational purposes."
   ]
  },
  {
   "cell_type": "markdown",
   "metadata": {},
   "source": [
    "## Steps \n",
    "\n",
    "1. Load data form Kaggle\n",
    "2. Load labels CSV for labels that contain image ID and Breed\n",
    "3. Checking the breed count\n",
    "4. One-hot encoding on labels data prediction column\n",
    "5. Load the images, Convert them to an Array and normalize them\n",
    "6. Check the shape and size of x and y data\n",
    "7. Bbuild the network model architecture\n",
    "8. Split the data an dfit in into the model and create an accuaracy plot\n",
    "9. Evaluate the model for accuracy score\n",
    "10. Using the model for prediction"
   ]
  },
  {
   "cell_type": "code",
   "execution_count": null,
   "metadata": {},
   "outputs": [],
   "source": [
    "# need  to install pip install kaggle kaggle-api"
   ]
  },
  {
   "cell_type": "code",
   "execution_count": null,
   "metadata": {},
   "outputs": [],
   "source": [
    "import os\n",
    "import opendatasets as od\n",
    "from zipfile import ZipFile\n",
    "import kaggle\n",
    "from kaggle.api.kaggle_api_extended import KaggleApi\n",
    "os.chmod(os.path.expanduser('C:\\\\Users\\\\anfes\\\\My Drive\\\\Projects\\\\Data_Projects\\\\Dog_Breed\\\\.kaggle\\\\kaggle.json'), 0o600)  # Nota: 0o600 representa los permisos en octal"
   ]
  },
  {
   "cell_type": "markdown",
   "metadata": {},
   "source": [
    "# Download the Dataset "
   ]
  },
  {
   "cell_type": "code",
   "execution_count": null,
   "outputs": [],
   "source": [
    "# Importa las librerías necesarias\n",
    "from kaggle.api.kaggle_api_extended import KaggleApi\n",
    "\n",
    "# Instancia la API de Kaggle\n",
    "api = KaggleApi()\n",
    "\n",
    "# Autentica la API utilizando tu archivo de configuración\n",
    "api.authenticate()\n",
    "\n",
    "# Descarga el dataset utilizando el comando \"dataset_download_files\"\n",
    "\n",
    "dataset_name = \"catherinehorng/dogbreedidfromcomp\"\n",
    "destination_path = \"dog_dataset\"  # Cambia esto a la ruta deseada\n",
    "\n",
    "if not os.path.exists(destination_path):\n",
    "    api.dataset_download_files(dataset_name, path=destination_path, unzip=False)\n",
    "\n"
   ],
   "metadata": {
    "collapsed": false
   }
  },
  {
   "cell_type": "markdown",
   "metadata": {},
   "source": [
    "# Installing libraries"
   ]
  },
  {
   "cell_type": "code",
   "execution_count": null,
   "metadata": {},
   "outputs": [],
   "source": [
    "import numpy as np\n",
    "import pandas as pd\n",
    "import matplotlib.pyplot as plt\n",
    "\n",
    "from tqdm import tqdm   # is a library that provides a visual progress bar for loops and long operations.\n",
    "from keras.preprocessing import image   # contains utilities for loading and preprocessing images before feeding them into deep learning models.\n",
    "from sklearn.preprocessing import label_binarize    # is used to convert categorical labels into binary label format.\n",
    "from sklearn.model_selection import train_test_split    # allows you to split datasets into training and testing subsets\n",
    "from keras.models import Sequential # is a way to create sequential neural network models layer by layer.\n",
    "from keras.layers import Dense, Dropout, Flatten, Conv2D, MaxPool2D # contains the layers you can use to build your model, such as Dense (fully connected dense layer), Dropout (regularization layer), Flatten (flatten data), Conv2D (2D convolutional layer), and MaxPool2D (pooling layer).\n",
    "from keras.optimizers import Adam   #  implements the Adam optimization algorithm, which is used to adjust model parameters during the training process."
   ]
  },
  {
   "cell_type": "markdown",
   "metadata": {},
   "source": [
    "## Reading Labels...\n",
    "loading the labels data into a dataframe and vieweng it. "
   ]
  },
  {
   "cell_type": "code",
   "execution_count": null,
   "outputs": [],
   "source": [
    "labels_all = pd.read_csv(\"dog_dataset/labels.csv\")\n",
    "print(labels_all.shape)\n",
    "labels_all.head()"
   ],
   "metadata": {
    "collapsed": false
   }
  },
  {
   "cell_type": "code",
   "execution_count": null,
   "outputs": [],
   "source": [
    "breeds_all = labels_all[\"breed\"]\n",
    "breed_count = breeds_all.value_counts()\n",
    "breed_count.head()"
   ],
   "metadata": {
    "collapsed": false
   }
  },
  {
   "cell_type": "markdown",
   "source": [
    "## limitating the model due depending the computational power"
   ],
   "metadata": {
    "collapsed": false
   }
  },
  {
   "cell_type": "code",
   "execution_count": null,
   "outputs": [],
   "source": [
    "CLASS_NAMES = ['scottish_deerhound','maltese_dog','afghan_hound','entlebucher','bernese_mountain_dog']\n",
    "labels = labels_all[(labels_all['breed'].isin(CLASS_NAMES))]\n",
    "\n",
    "labels.head()"
   ],
   "metadata": {
    "collapsed": false
   }
  },
  {
   "cell_type": "code",
   "execution_count": null,
   "outputs": [],
   "source": [
    "# Reset the index:\n",
    "labels = labels.reset_index()\n",
    "labels.head()"
   ],
   "metadata": {
    "collapsed": false
   }
  },
  {
   "cell_type": "markdown",
   "source": [
    "## Hot-encoding the target value, reading the images,  converting them into numpy array and normalizing the array \n",
    "\n"
   ],
   "metadata": {
    "collapsed": false
   }
  },
  {
   "cell_type": "code",
   "execution_count": null,
   "outputs": [],
   "source": [],
   "metadata": {
    "collapsed": false
   }
  }
 ],
 "metadata": {
  "kernelspec": {
   "display_name": "base",
   "language": "python",
   "name": "python3"
  },
  "language_info": {
   "codemirror_mode": {
    "name": "ipython",
    "version": 3
   },
   "file_extension": ".py",
   "mimetype": "text/x-python",
   "name": "python",
   "nbconvert_exporter": "python",
   "pygments_lexer": "ipython3",
   "version": "3.11.4"
  },
  "orig_nbformat": 4
 },
 "nbformat": 4,
 "nbformat_minor": 2
}
