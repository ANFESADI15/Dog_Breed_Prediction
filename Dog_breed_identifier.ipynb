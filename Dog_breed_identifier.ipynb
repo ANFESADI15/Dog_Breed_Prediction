{
 "cells": [
  {
   "cell_type": "markdown",
   "metadata": {},
   "source": [
    "# Dog Breed Prediction\n",
    "\n",
    "Build, Train and test a convolutional neural network capable of identifying the vreed of a dog in a supplied image. (Supervised ML - Multi class classification problem)"
   ]
  },
  {
   "cell_type": "markdown",
   "metadata": {},
   "source": [
    "this model can be used by NGOs working on saving anumals and for educational purposes."
   ]
  },
  {
   "cell_type": "markdown",
   "metadata": {},
   "source": [
    "## Steps \n",
    "\n",
    "1. Load data form Kaggle\n",
    "2. Load labels CSV for labels that contain image ID and Breed\n",
    "3. Checking the breed count\n",
    "4. One-hot encoding on labels data prediction column\n",
    "5. Load the images, Convert them to an Array and normalize them\n",
    "6. Check the shape and size of x and y data\n",
    "7. Bbuild the network model architecture\n",
    "8. Split the data an dfit in into the model and create an accuaracy plot\n",
    "9. Evaluate the model for accuracy score\n",
    "10. Using the model for prediction"
   ]
  },
  {
   "cell_type": "code",
   "execution_count": 1,
   "metadata": {
    "ExecuteTime": {
     "end_time": "2023-09-06T01:46:17.211223400Z",
     "start_time": "2023-09-06T01:46:17.171160600Z"
    }
   },
   "outputs": [],
   "source": [
    "# need  to install pip install kaggle kaggle-api"
   ]
  },
  {
   "cell_type": "code",
   "execution_count": 2,
   "metadata": {
    "ExecuteTime": {
     "end_time": "2023-09-06T01:46:17.421313200Z",
     "start_time": "2023-09-06T01:46:17.180650200Z"
    }
   },
   "outputs": [],
   "source": [
    "import os\n",
    "import opendatasets as od\n",
    "from zipfile import ZipFile\n",
    "import kaggle\n",
    "from kaggle.api.kaggle_api_extended import KaggleApi\n",
    "os.chmod(os.path.expanduser('C:\\\\Users\\\\anfes\\\\My Drive\\\\Projects\\\\Data_Projects\\\\Dog_Breed\\\\.kaggle\\\\kaggle.json'), 0o600)  # Nota: 0o600 representa los permisos en octal"
   ]
  },
  {
   "cell_type": "markdown",
   "metadata": {},
   "source": [
    "# Download the Dataset "
   ]
  },
  {
   "cell_type": "code",
   "execution_count": 3,
   "outputs": [],
   "source": [
    "# Importa las librerías necesarias\n",
    "from kaggle.api.kaggle_api_extended import KaggleApi\n",
    "\n",
    "# Instancia la API de Kaggle\n",
    "api = KaggleApi()\n",
    "\n",
    "# Autentica la API utilizando tu archivo de configuración\n",
    "api.authenticate()\n",
    "\n",
    "# Descarga el dataset utilizando el comando \"dataset_download_files\"\n",
    "\n",
    "dataset_name = \"catherinehorng/dogbreedidfromcomp\"\n",
    "destination_path = \"dog_dataset\"  # Cambia esto a la ruta deseada\n",
    "\n",
    "if not os.path.exists(destination_path):\n",
    "    api.dataset_download_files(dataset_name, path=destination_path, unzip=False)\n",
    "\n"
   ],
   "metadata": {
    "collapsed": false,
    "ExecuteTime": {
     "end_time": "2023-09-06T01:46:17.432120Z",
     "start_time": "2023-09-06T01:46:17.423307800Z"
    }
   }
  },
  {
   "cell_type": "markdown",
   "metadata": {},
   "source": [
    "# Installing libraries"
   ]
  },
  {
   "cell_type": "code",
   "execution_count": 4,
   "metadata": {
    "ExecuteTime": {
     "end_time": "2023-09-06T01:46:22.483382200Z",
     "start_time": "2023-09-06T01:46:17.435112600Z"
    }
   },
   "outputs": [],
   "source": [
    "import numpy as np\n",
    "import pandas as pd\n",
    "import matplotlib.pyplot as plt\n",
    "\n",
    "from tqdm import tqdm   # is a library that provides a visual progress bar for loops and long operations.\n",
    "from keras.preprocessing import image   # contains utilities for loading and preprocessing images before feeding them into deep learning models.\n",
    "from sklearn.preprocessing import label_binarize    # is used to convert categorical labels into binary label format.\n",
    "from sklearn.model_selection import train_test_split    # allows you to split datasets into training and testing subsets\n",
    "from keras.models import Sequential # is a way to create sequential neural network models layer by layer.\n",
    "from keras.layers import Dense, Dropout, Flatten, Conv2D, MaxPool2D # contains the layers you can use to build your model, such as Dense (fully connected dense layer), Dropout (regularization layer), Flatten (flatten data), Conv2D (2D convolutional layer), and MaxPool2D (pooling layer).\n",
    "from keras.optimizers import Adam   #  implements the Adam optimization algorithm, which is used to adjust model parameters during the training process."
   ]
  },
  {
   "cell_type": "markdown",
   "metadata": {},
   "source": [
    "## Reading Labels...\n",
    "loading the labels data into a dataframe and vieweng it. "
   ]
  },
  {
   "cell_type": "code",
   "execution_count": 5,
   "outputs": [
    {
     "name": "stdout",
     "output_type": "stream",
     "text": [
      "(10222, 2)\n"
     ]
    },
    {
     "data": {
      "text/plain": "                                 id             breed\n0  000bec180eb18c7604dcecc8fe0dba07       boston_bull\n1  001513dfcb2ffafc82cccf4d8bbaba97             dingo\n2  001cdf01b096e06d78e9e5112d419397          pekinese\n3  00214f311d5d2247d5dfe4fe24b2303d          bluetick\n4  0021f9ceb3235effd7fcde7f7538ed62  golden_retriever",
      "text/html": "<div>\n<style scoped>\n    .dataframe tbody tr th:only-of-type {\n        vertical-align: middle;\n    }\n\n    .dataframe tbody tr th {\n        vertical-align: top;\n    }\n\n    .dataframe thead th {\n        text-align: right;\n    }\n</style>\n<table border=\"1\" class=\"dataframe\">\n  <thead>\n    <tr style=\"text-align: right;\">\n      <th></th>\n      <th>id</th>\n      <th>breed</th>\n    </tr>\n  </thead>\n  <tbody>\n    <tr>\n      <th>0</th>\n      <td>000bec180eb18c7604dcecc8fe0dba07</td>\n      <td>boston_bull</td>\n    </tr>\n    <tr>\n      <th>1</th>\n      <td>001513dfcb2ffafc82cccf4d8bbaba97</td>\n      <td>dingo</td>\n    </tr>\n    <tr>\n      <th>2</th>\n      <td>001cdf01b096e06d78e9e5112d419397</td>\n      <td>pekinese</td>\n    </tr>\n    <tr>\n      <th>3</th>\n      <td>00214f311d5d2247d5dfe4fe24b2303d</td>\n      <td>bluetick</td>\n    </tr>\n    <tr>\n      <th>4</th>\n      <td>0021f9ceb3235effd7fcde7f7538ed62</td>\n      <td>golden_retriever</td>\n    </tr>\n  </tbody>\n</table>\n</div>"
     },
     "execution_count": 5,
     "metadata": {},
     "output_type": "execute_result"
    }
   ],
   "source": [
    "labels_all = pd.read_csv(\"dog_dataset/labels.csv\")\n",
    "print(labels_all.shape)\n",
    "labels_all.head()"
   ],
   "metadata": {
    "collapsed": false,
    "ExecuteTime": {
     "end_time": "2023-09-06T01:46:22.523743700Z",
     "start_time": "2023-09-06T01:46:22.490371700Z"
    }
   }
  },
  {
   "cell_type": "code",
   "execution_count": 6,
   "outputs": [
    {
     "data": {
      "text/plain": "scottish_deerhound      126\nmaltese_dog             117\nafghan_hound            116\nentlebucher             115\nbernese_mountain_dog    114\nName: breed, dtype: int64"
     },
     "execution_count": 6,
     "metadata": {},
     "output_type": "execute_result"
    }
   ],
   "source": [
    "breeds_all = labels_all[\"breed\"]\n",
    "breed_count = breeds_all.value_counts()\n",
    "breed_count.head()"
   ],
   "metadata": {
    "collapsed": false,
    "ExecuteTime": {
     "end_time": "2023-09-06T01:46:24.720520400Z",
     "start_time": "2023-09-06T01:46:22.518756300Z"
    }
   }
  },
  {
   "cell_type": "markdown",
   "source": [
    "## limitating the model due depending the computational power"
   ],
   "metadata": {
    "collapsed": false
   }
  },
  {
   "cell_type": "code",
   "execution_count": 7,
   "outputs": [
    {
     "data": {
      "text/plain": "                                  id               breed\n9   0042188c895a2f14ef64a918ed9c7b64  scottish_deerhound\n12  00693b8bc2470375cc744a6391d397ec         maltese_dog\n79  01e787576c003930f96c966f9c3e1d44  scottish_deerhound\n80  01ee3c7ff9bcaba9874183135877670e         entlebucher\n88  021b5a49189665c0442c19b5b33e8cf1         entlebucher",
      "text/html": "<div>\n<style scoped>\n    .dataframe tbody tr th:only-of-type {\n        vertical-align: middle;\n    }\n\n    .dataframe tbody tr th {\n        vertical-align: top;\n    }\n\n    .dataframe thead th {\n        text-align: right;\n    }\n</style>\n<table border=\"1\" class=\"dataframe\">\n  <thead>\n    <tr style=\"text-align: right;\">\n      <th></th>\n      <th>id</th>\n      <th>breed</th>\n    </tr>\n  </thead>\n  <tbody>\n    <tr>\n      <th>9</th>\n      <td>0042188c895a2f14ef64a918ed9c7b64</td>\n      <td>scottish_deerhound</td>\n    </tr>\n    <tr>\n      <th>12</th>\n      <td>00693b8bc2470375cc744a6391d397ec</td>\n      <td>maltese_dog</td>\n    </tr>\n    <tr>\n      <th>79</th>\n      <td>01e787576c003930f96c966f9c3e1d44</td>\n      <td>scottish_deerhound</td>\n    </tr>\n    <tr>\n      <th>80</th>\n      <td>01ee3c7ff9bcaba9874183135877670e</td>\n      <td>entlebucher</td>\n    </tr>\n    <tr>\n      <th>88</th>\n      <td>021b5a49189665c0442c19b5b33e8cf1</td>\n      <td>entlebucher</td>\n    </tr>\n  </tbody>\n</table>\n</div>"
     },
     "execution_count": 7,
     "metadata": {},
     "output_type": "execute_result"
    }
   ],
   "source": [
    "CLASS_NAMES = ['scottish_deerhound','maltese_dog','afghan_hound','entlebucher','bernese_mountain_dog']\n",
    "labels = labels_all[(labels_all['breed'].isin(CLASS_NAMES))]\n",
    "\n",
    "labels.head()"
   ],
   "metadata": {
    "collapsed": false,
    "ExecuteTime": {
     "end_time": "2023-09-06T01:46:25.038670200Z",
     "start_time": "2023-09-06T01:46:24.722551400Z"
    }
   }
  },
  {
   "cell_type": "code",
   "execution_count": 8,
   "outputs": [
    {
     "data": {
      "text/plain": "   index                                id               breed\n0      9  0042188c895a2f14ef64a918ed9c7b64  scottish_deerhound\n1     12  00693b8bc2470375cc744a6391d397ec         maltese_dog\n2     79  01e787576c003930f96c966f9c3e1d44  scottish_deerhound\n3     80  01ee3c7ff9bcaba9874183135877670e         entlebucher\n4     88  021b5a49189665c0442c19b5b33e8cf1         entlebucher",
      "text/html": "<div>\n<style scoped>\n    .dataframe tbody tr th:only-of-type {\n        vertical-align: middle;\n    }\n\n    .dataframe tbody tr th {\n        vertical-align: top;\n    }\n\n    .dataframe thead th {\n        text-align: right;\n    }\n</style>\n<table border=\"1\" class=\"dataframe\">\n  <thead>\n    <tr style=\"text-align: right;\">\n      <th></th>\n      <th>index</th>\n      <th>id</th>\n      <th>breed</th>\n    </tr>\n  </thead>\n  <tbody>\n    <tr>\n      <th>0</th>\n      <td>9</td>\n      <td>0042188c895a2f14ef64a918ed9c7b64</td>\n      <td>scottish_deerhound</td>\n    </tr>\n    <tr>\n      <th>1</th>\n      <td>12</td>\n      <td>00693b8bc2470375cc744a6391d397ec</td>\n      <td>maltese_dog</td>\n    </tr>\n    <tr>\n      <th>2</th>\n      <td>79</td>\n      <td>01e787576c003930f96c966f9c3e1d44</td>\n      <td>scottish_deerhound</td>\n    </tr>\n    <tr>\n      <th>3</th>\n      <td>80</td>\n      <td>01ee3c7ff9bcaba9874183135877670e</td>\n      <td>entlebucher</td>\n    </tr>\n    <tr>\n      <th>4</th>\n      <td>88</td>\n      <td>021b5a49189665c0442c19b5b33e8cf1</td>\n      <td>entlebucher</td>\n    </tr>\n  </tbody>\n</table>\n</div>"
     },
     "execution_count": 8,
     "metadata": {},
     "output_type": "execute_result"
    }
   ],
   "source": [
    "# Reset the index:\n",
    "labels = labels.reset_index()\n",
    "labels.head()"
   ],
   "metadata": {
    "collapsed": false,
    "ExecuteTime": {
     "end_time": "2023-09-06T01:46:25.051060700Z",
     "start_time": "2023-09-06T01:46:25.038670200Z"
    }
   }
  },
  {
   "cell_type": "markdown",
   "source": [
    "## Hot-encoding the target value, reading the images,  converting them into numpy array and normalizing the array \n",
    "\n"
   ],
   "metadata": {
    "collapsed": false
   }
  },
  {
   "cell_type": "code",
   "execution_count": 13,
   "outputs": [
    {
     "name": "stdout",
     "output_type": "stream",
     "text": [
      "[[1 0 0 0 0]\n",
      " [0 1 0 0 0]\n",
      " [1 0 0 0 0]\n",
      " [0 0 0 1 0]\n",
      " [0 0 0 1 0]]\n"
     ]
    }
   ],
   "source": [
    "# Creating numpy matrix with zeros \n",
    "X_data = np.zeros((len(labels),224,224,3), dtype='float32') #hay un total de len(labels) imágenes, cada una de tamaño 224x224 píxeles con 3 canales de color (RGB).\n",
    "\n",
    "\n",
    "# One Hot Encoding\n",
    "Y_data = label_binarize(labels['breed'], classes = CLASS_NAMES) # Se crea una matriz Y_data utilizando la función label_binarize para realizar la codificación en caliente de las etiquetas de las razas de los perros. La columna 'breed' del DataFrame labels se usa como entrada para esta codificación en caliente. Cada fila en Y_data corresponde a una imagen de entrenamiento y contiene un vector binario que representa la raza del perro.\n",
    "\n",
    "print(Y_data[:5])\n"
   ],
   "metadata": {
    "collapsed": false,
    "ExecuteTime": {
     "end_time": "2023-09-06T05:11:46.344182500Z",
     "start_time": "2023-09-06T05:11:46.334761700Z"
    }
   }
  },
  {
   "cell_type": "code",
   "execution_count": null,
   "outputs": [],
   "source": [
    "\n",
    "# Reading and converting image to numpy array and normalizing dataset\n",
    "for i in tqdm(range(len(labels))): # Luego, el código entra en un bucle for que itera a través de cada fila en el DataFrame labels.\n",
    "    img = image.load_img('dog_dataset/train/%s.jpg' % labels['id'][i],target_size=(224,224))\n",
    "    img = image.img_to_array(img) # Para cada fila, se carga una imagen de un archivo ubicado en el directorio 'dog_dataset/train' y se cambia su tamaño a 224x224 píxeles utilizando la función load_img y img_to_array de Keras.\n",
    "    x = np.expand_dims(img.copy(), axis=0) # \n",
    "    X_data[i] = x/255 #La imagen se normaliza dividiendo todos sus valores de píxeles por 255, lo que escala los valores de píxeles al rango [0, 1]. y El resultado se almacena en la matriz X_data en la posición correspondiente al índice actual del bucle.\n",
    "\n",
    "\n",
    "# printing train image and one hot encode shape and size\n",
    "print('\\nTrain Images shape: ',X_data.shape,' size: {:,}'.format(X_data.size))\n",
    "print('One-hot encoded output shape: ', Y_data.shape, ' size: {:,}'.format(Y_data.size))"
   ],
   "metadata": {
    "collapsed": false,
    "ExecuteTime": {
     "end_time": "2023-09-06T01:46:26.365388500Z",
     "start_time": "2023-09-06T01:46:26.365388500Z"
    }
   }
  }
 ],
 "metadata": {
  "kernelspec": {
   "display_name": "base",
   "language": "python",
   "name": "python3"
  },
  "language_info": {
   "codemirror_mode": {
    "name": "ipython",
    "version": 3
   },
   "file_extension": ".py",
   "mimetype": "text/x-python",
   "name": "python",
   "nbconvert_exporter": "python",
   "pygments_lexer": "ipython3",
   "version": "3.11.4"
  },
  "orig_nbformat": 4
 },
 "nbformat": 4,
 "nbformat_minor": 2
}
