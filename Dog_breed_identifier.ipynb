{
 "cells": [
  {
   "cell_type": "markdown",
   "metadata": {},
   "source": [
    "# Dog Breed Prediction\n",
    "\n",
    "Build, Train and test a convolutional neural network capable of identifying the vreed of a dog in a supplied image. (Supervised ML - Multi class classification problem)"
   ]
  },
  {
   "cell_type": "markdown",
   "metadata": {},
   "source": [
    "this model can be used by NGOs working on saving anumals and for educational purposes."
   ]
  },
  {
   "cell_type": "markdown",
   "metadata": {},
   "source": [
    "## Steps \n",
    "\n",
    "1. Load data form Kaggle\n",
    "2. Load labels CSV for labels that contain image ID and Breed\n",
    "3. Checking the breed count\n",
    "4. One-hot encoding on labels data prediction column\n",
    "5. Load the images, Convert them to an Array and normalize them\n",
    "6. Check the shape and size of x and y data\n",
    "7. Bbuild the network model architecture\n",
    "8. Split the data an dfit in into the model and create an accuaracy plot\n",
    "9. Evaluate the model for accuracy score\n",
    "10. Using the model for prediction"
   ]
  },
  {
   "cell_type": "code",
   "execution_count": 1,
   "metadata": {},
   "outputs": [],
   "source": [
    "## need to install pip install kaggle kaggle-api"
   ]
  },
  {
   "cell_type": "code",
   "execution_count": 2,
   "metadata": {},
   "outputs": [],
   "source": [
    "import os\n",
    "import opendatasets as od\n",
    "from zipfile import ZipFile\n",
    "import kaggle\n",
    "from kaggle.api.kaggle_api_extended import KaggleApi\n",
    "os.chmod(os.path.expanduser('C:\\\\Users\\\\anfes\\\\My Drive\\\\Projects\\\\Data_Projects\\\\Dog_Breed\\\\.kaggle\\\\kaggle.json'), 0o600)  # Nota: 0o600 representa los permisos en octal"
   ]
  },
  {
   "cell_type": "markdown",
   "metadata": {},
   "source": [
    "# Download the Dataset "
   ]
  },
  {
   "cell_type": "markdown",
   "metadata": {},
   "source": [
    "Before downloading it you must download the kaggle API credentials from your profile in kaggle and upload it into a .kaggle directory"
   ]
  },
  {
   "cell_type": "code",
   "execution_count": 3,
   "metadata": {},
   "outputs": [],
   "source": [
    "# Importa las librerías necesarias\n",
    "from kaggle.api.kaggle_api_extended import KaggleApi\n",
    "\n",
    "# Instancia la API de Kaggle\n",
    "api = KaggleApi()\n",
    "\n",
    "# Autentica la API utilizando tu archivo de configuración\n",
    "api.authenticate()\n",
    "\n",
    "# Descarga el dataset utilizando el comando \"dataset_download_files\"\n",
    "dataset_name = \"catherinehorng/dogbreedidfromcomp\"\n",
    "destination_path = \"dog_dataset\"  # Cambia esto a la ruta deseada\n",
    "api.dataset_download_files(dataset_name, path=destination_path, unzip=True)\n",
    "\n",
    "#od.download(\"https://www.kaggle.com/datasets/catherinehorng/dogbreedidfromcomp\")\n",
    "#!kaggle datasets download catherinehorng/dogbreedidfromcomp -p C:\\\\Users\\\\anfes\\\\My Drive\\\\Projects\\\\Data_Projects\\\\Dog_Breed\\\\dog_dataset\n",
    "#%cd .."
   ]
  },
  {
   "cell_type": "markdown",
   "metadata": {},
   "source": [
    "# Installing libraries"
   ]
  },
  {
   "cell_type": "code",
   "execution_count": 4,
   "metadata": {},
   "outputs": [],
   "source": [
    "import numpy as np\n",
    "import pandas as pd\n",
    "import matplotlib.pyplot as plt\n",
    "\n",
    "from tqdm import tqdm   # is a library that provides a visual progress bar for loops and long operations.\n",
    "from keras.preprocessing import image   # contains utilities for loading and preprocessing images before feeding them into deep learning models.\n",
    "from sklearn.preprocessing import label_binarize    # is used to convert categorical labels into binary label format.\n",
    "from sklearn.model_selection import train_test_split    # allows you to split datasets into training and testing subsets\n",
    "from keras.models import Sequential # is a way to create sequential neural network models layer by layer.\n",
    "from keras.layers import Dense, Dropout, Flatten, Conv2D, MaxPool2D # contains the layers you can use to build your model, such as Dense (fully connected dense layer), Dropout (regularization layer), Flatten (flatten data), Conv2D (2D convolutional layer), and MaxPool2D (pooling layer).\n",
    "from keras.optimizers import Adam   #  implements the Adam optimization algorithm, which is used to adjust model parameters during the training process."
   ]
  },
  {
   "cell_type": "markdown",
   "metadata": {},
   "source": [
    "## Reading Labels..."
   ]
  }
 ],
 "metadata": {
  "kernelspec": {
   "display_name": "base",
   "language": "python",
   "name": "python3"
  },
  "language_info": {
   "codemirror_mode": {
    "name": "ipython",
    "version": 3
   },
   "file_extension": ".py",
   "mimetype": "text/x-python",
   "name": "python",
   "nbconvert_exporter": "python",
   "pygments_lexer": "ipython3",
   "version": "3.11.4"
  },
  "orig_nbformat": 4
 },
 "nbformat": 4,
 "nbformat_minor": 2
}
